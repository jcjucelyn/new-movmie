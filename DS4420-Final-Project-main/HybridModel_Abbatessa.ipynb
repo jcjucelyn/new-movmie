{
 "cells": [
  {
   "cell_type": "markdown",
   "id": "82b782c9-a916-4027-b278-a9c3f2daa189",
   "metadata": {},
   "source": [
    "# Import the Necessary Libraries/Packages"
   ]
  },
  {
   "cell_type": "code",
   "execution_count": 1,
   "id": "db0d8346-97cf-4ab1-98ed-c3e53ae19825",
   "metadata": {},
   "outputs": [],
   "source": [
    "# Import the necessary libraries/packages\n",
    "import pandas as pd\n",
    "import numpy as np"
   ]
  },
  {
   "cell_type": "markdown",
   "id": "588224ac-49e9-46de-8e99-f54fdac10f0b",
   "metadata": {},
   "source": [
    "# Instantiate the Necessary Constants"
   ]
  },
  {
   "cell_type": "code",
   "execution_count": 2,
   "id": "f11886ec-0460-4a79-ad3d-532b56970d85",
   "metadata": {},
   "outputs": [],
   "source": [
    "# Instantiate the necessary constants\n",
    "#TARGET_USERS = [6]\n",
    "TARGET_USERS = [196, 186, 22, 244, 166, 298, 115, 253, 305, 6]"
   ]
  },
  {
   "cell_type": "markdown",
   "id": "e7147a74-922d-413a-856b-918bf1bf030d",
   "metadata": {},
   "source": [
    "# Load/Clean the Necessary Data Sets"
   ]
  },
  {
   "cell_type": "code",
   "execution_count": 3,
   "id": "f1296832-5740-4712-8dce-a52fae5cebfb",
   "metadata": {},
   "outputs": [
    {
     "data": {
      "text/html": [
       "<div>\n",
       "<style scoped>\n",
       "    .dataframe tbody tr th:only-of-type {\n",
       "        vertical-align: middle;\n",
       "    }\n",
       "\n",
       "    .dataframe tbody tr th {\n",
       "        vertical-align: top;\n",
       "    }\n",
       "\n",
       "    .dataframe thead th {\n",
       "        text-align: right;\n",
       "    }\n",
       "</style>\n",
       "<table border=\"1\" class=\"dataframe\">\n",
       "  <thead>\n",
       "    <tr style=\"text-align: right;\">\n",
       "      <th></th>\n",
       "      <th>user_id</th>\n",
       "      <th>item_id</th>\n",
       "      <th>predicted_rating</th>\n",
       "    </tr>\n",
       "  </thead>\n",
       "  <tbody>\n",
       "    <tr>\n",
       "      <th>0</th>\n",
       "      <td>196</td>\n",
       "      <td>242</td>\n",
       "      <td>4.0</td>\n",
       "    </tr>\n",
       "    <tr>\n",
       "      <th>1</th>\n",
       "      <td>186</td>\n",
       "      <td>302</td>\n",
       "      <td>5.0</td>\n",
       "    </tr>\n",
       "    <tr>\n",
       "      <th>2</th>\n",
       "      <td>22</td>\n",
       "      <td>377</td>\n",
       "      <td>1.0</td>\n",
       "    </tr>\n",
       "    <tr>\n",
       "      <th>3</th>\n",
       "      <td>244</td>\n",
       "      <td>51</td>\n",
       "      <td>4.0</td>\n",
       "    </tr>\n",
       "    <tr>\n",
       "      <th>4</th>\n",
       "      <td>166</td>\n",
       "      <td>346</td>\n",
       "      <td>4.0</td>\n",
       "    </tr>\n",
       "  </tbody>\n",
       "</table>\n",
       "</div>"
      ],
      "text/plain": [
       "   user_id  item_id  predicted_rating\n",
       "0      196      242               4.0\n",
       "1      186      302               5.0\n",
       "2       22      377               1.0\n",
       "3      244       51               4.0\n",
       "4      166      346               4.0"
      ]
     },
     "execution_count": 3,
     "metadata": {},
     "output_type": "execute_result"
    }
   ],
   "source": [
    "# Read in the .csv file with the MLP predictions\n",
    "MLP_preds = pd.read_csv(\"data/mlp_results.csv\")\n",
    "MLP_preds.head()"
   ]
  },
  {
   "cell_type": "code",
   "execution_count": 4,
   "id": "21326eee-941c-430d-8285-098255ece68e",
   "metadata": {},
   "outputs": [
    {
     "data": {
      "text/html": [
       "<div>\n",
       "<style scoped>\n",
       "    .dataframe tbody tr th:only-of-type {\n",
       "        vertical-align: middle;\n",
       "    }\n",
       "\n",
       "    .dataframe tbody tr th {\n",
       "        vertical-align: top;\n",
       "    }\n",
       "\n",
       "    .dataframe thead th {\n",
       "        text-align: right;\n",
       "    }\n",
       "</style>\n",
       "<table border=\"1\" class=\"dataframe\">\n",
       "  <thead>\n",
       "    <tr style=\"text-align: right;\">\n",
       "      <th></th>\n",
       "      <th>UserID</th>\n",
       "      <th>MovieID</th>\n",
       "      <th>PredictedScore</th>\n",
       "    </tr>\n",
       "  </thead>\n",
       "  <tbody>\n",
       "    <tr>\n",
       "      <th>0</th>\n",
       "      <td>196</td>\n",
       "      <td>Rating.302</td>\n",
       "      <td>3.707343</td>\n",
       "    </tr>\n",
       "    <tr>\n",
       "      <th>1</th>\n",
       "      <td>196</td>\n",
       "      <td>Rating.377</td>\n",
       "      <td>3.707343</td>\n",
       "    </tr>\n",
       "    <tr>\n",
       "      <th>2</th>\n",
       "      <td>196</td>\n",
       "      <td>Rating.51</td>\n",
       "      <td>3.707343</td>\n",
       "    </tr>\n",
       "    <tr>\n",
       "      <th>3</th>\n",
       "      <td>196</td>\n",
       "      <td>Rating.346</td>\n",
       "      <td>3.707343</td>\n",
       "    </tr>\n",
       "    <tr>\n",
       "      <th>4</th>\n",
       "      <td>196</td>\n",
       "      <td>Rating.474</td>\n",
       "      <td>3.707343</td>\n",
       "    </tr>\n",
       "  </tbody>\n",
       "</table>\n",
       "</div>"
      ],
      "text/plain": [
       "   UserID     MovieID  PredictedScore\n",
       "0     196  Rating.302        3.707343\n",
       "1     196  Rating.377        3.707343\n",
       "2     196   Rating.51        3.707343\n",
       "3     196  Rating.346        3.707343\n",
       "4     196  Rating.474        3.707343"
      ]
     },
     "execution_count": 4,
     "metadata": {},
     "output_type": "execute_result"
    }
   ],
   "source": [
    "# Read in the .csv file with the CF predictions\n",
    "CF_preds = pd.read_csv(\"data/10_CF_results.csv\")\n",
    "CF_preds.head()"
   ]
  },
  {
   "cell_type": "code",
   "execution_count": 5,
   "id": "957485b9-858c-4155-9980-2d3a3fc0f627",
   "metadata": {},
   "outputs": [
    {
     "data": {
      "text/html": [
       "<div>\n",
       "<style scoped>\n",
       "    .dataframe tbody tr th:only-of-type {\n",
       "        vertical-align: middle;\n",
       "    }\n",
       "\n",
       "    .dataframe tbody tr th {\n",
       "        vertical-align: top;\n",
       "    }\n",
       "\n",
       "    .dataframe thead th {\n",
       "        text-align: right;\n",
       "    }\n",
       "</style>\n",
       "<table border=\"1\" class=\"dataframe\">\n",
       "  <thead>\n",
       "    <tr style=\"text-align: right;\">\n",
       "      <th></th>\n",
       "      <th>UserID</th>\n",
       "      <th>MovieID</th>\n",
       "      <th>PredictedScore</th>\n",
       "    </tr>\n",
       "  </thead>\n",
       "  <tbody>\n",
       "    <tr>\n",
       "      <th>0</th>\n",
       "      <td>196</td>\n",
       "      <td>302</td>\n",
       "      <td>3.707343</td>\n",
       "    </tr>\n",
       "    <tr>\n",
       "      <th>1</th>\n",
       "      <td>196</td>\n",
       "      <td>377</td>\n",
       "      <td>3.707343</td>\n",
       "    </tr>\n",
       "    <tr>\n",
       "      <th>2</th>\n",
       "      <td>196</td>\n",
       "      <td>51</td>\n",
       "      <td>3.707343</td>\n",
       "    </tr>\n",
       "    <tr>\n",
       "      <th>3</th>\n",
       "      <td>196</td>\n",
       "      <td>346</td>\n",
       "      <td>3.707343</td>\n",
       "    </tr>\n",
       "    <tr>\n",
       "      <th>4</th>\n",
       "      <td>196</td>\n",
       "      <td>474</td>\n",
       "      <td>3.707343</td>\n",
       "    </tr>\n",
       "  </tbody>\n",
       "</table>\n",
       "</div>"
      ],
      "text/plain": [
       "   UserID  MovieID  PredictedScore\n",
       "0     196      302        3.707343\n",
       "1     196      377        3.707343\n",
       "2     196       51        3.707343\n",
       "3     196      346        3.707343\n",
       "4     196      474        3.707343"
      ]
     },
     "execution_count": 5,
     "metadata": {},
     "output_type": "execute_result"
    }
   ],
   "source": [
    "# Modify the feature \"MovieID\" of CF_preds to remove \"Rating.\" from each observation\n",
    "CF_preds[\"MovieID\"] = CF_preds[\"MovieID\"].str[7:].astype(int)\n",
    "CF_preds.head()"
   ]
  },
  {
   "cell_type": "markdown",
   "id": "39a1f81e-9715-4704-a79b-116ac3694fc2",
   "metadata": {},
   "source": [
    "# Implement the Hybrid MLP-CF Model"
   ]
  },
  {
   "cell_type": "markdown",
   "id": "ff80a774-6172-49f4-bb41-738e208d7684",
   "metadata": {},
   "source": [
    "## Pull the CF Ratings for Each User"
   ]
  },
  {
   "cell_type": "code",
   "execution_count": 6,
   "id": "715893ed-2e07-4e42-9ba6-bf5b97870a5b",
   "metadata": {},
   "outputs": [],
   "source": [
    "# Separate CF_preds into DataFrames for each user\n",
    "CF_user_filt_dfs = []\n",
    "\n",
    "# Iterate over the list of target users\n",
    "for user in TARGET_USERS:\n",
    "\n",
    "    # Filter CF_preds by the user\n",
    "    CF_preds_filt = CF_preds[CF_preds[\"UserID\"]==user]\n",
    "\n",
    "    # Sort the filtered data by movie ID from lowest to highest\n",
    "    CF_preds_filt_sort = CF_preds_filt.sort_values(by=[\"MovieID\"], ascending=True)\n",
    "\n",
    "    # Append the filtered, sorted data to the list of DataFrames\n",
    "    CF_user_filt_dfs.append(CF_preds_filt_sort)"
   ]
  },
  {
   "cell_type": "markdown",
   "id": "9ec94fd9-40a3-491c-bbb6-7275c4cd569a",
   "metadata": {},
   "source": [
    "## Pull the MLP Ratings for the Unrated Movies for Each User"
   ]
  },
  {
   "cell_type": "code",
   "execution_count": 7,
   "id": "ac4b47a1-1341-44bc-b384-61effb94c24a",
   "metadata": {},
   "outputs": [],
   "source": [
    "# Filter MLP_preds based on each target user's missing ratings\n",
    "MLP_user_filt_dfs = []\n",
    "\n",
    "# Iterate over each CF user DataFrame\n",
    "for user_df in CF_user_filt_dfs:\n",
    "    # Gauge the movies in the MLP predictions data that are NOT in each CF user DataFrame\n",
    "    CF_movies = user_df[\"MovieID\"]\n",
    "    MLP_movies = MLP_preds[\"item_id\"]\n",
    "\n",
    "    res = list(set(MLP_movies) - set(CF_movies))\n",
    "\n",
    "    # Filter out the necessary movies from MLP_pred\n",
    "    MLP_preds_filt = MLP_preds.loc[~MLP_preds[\"item_id\"].isin(res)]\n",
    "\n",
    "    # Sort the filtered data by movie ID from lowest to highest\n",
    "    MLP_preds_filt_sort = MLP_preds_filt.sort_values(by=[\"item_id\"], ascending=True)\n",
    "\n",
    "    # Append the filtered, sorted data to the list of DataFrames\n",
    "    MLP_user_filt_dfs.append(MLP_preds_filt_sort)"
   ]
  },
  {
   "cell_type": "markdown",
   "id": "7d1e14bd-0e33-42bf-abec-4100a4bce5e0",
   "metadata": {},
   "source": [
    "## Obtain the Movie-Highest Rating Pair for Each User"
   ]
  },
  {
   "cell_type": "code",
   "execution_count": 8,
   "id": "6961835b-086d-4d8d-ba8d-5ac4c690a4df",
   "metadata": {},
   "outputs": [
    {
     "name": "stdout",
     "output_type": "stream",
     "text": [
      "{196: {'Movie ID': 357, 'Highest Rating': 4.24656393477016}, 186: {'Movie ID': 286, 'Highest Rating': 4.60968426781676}, 22: {'Movie ID': 183, 'Highest Rating': 4.33432822186426}, 244: {'Movie ID': 483, 'Highest Rating': 4.67168002214678}, 166: {'Movie ID': 228, 'Highest Rating': 3.89983271600903}, 298: {'Movie ID': 192, 'Highest Rating': 4.45161172732633}, 115: {'Movie ID': 169, 'Highest Rating': 5.0}, 253: {'Movie ID': 195, 'Highest Rating': 4.127183474125}, 305: {'Movie ID': 23, 'Highest Rating': 4.35571545558406}, 6: {'Movie ID': 654, 'Highest Rating': 4.67180577723681}}\n"
     ]
    }
   ],
   "source": [
    "# Populate a dictionary with the highest rating and its associated movie for each user\n",
    "CF_MLP_merged_dfs = []\n",
    "target_users_recs = {}\n",
    "\n",
    "for i in range(len(CF_user_filt_dfs)):\n",
    "    for j in range(len(MLP_user_filt_dfs)):\n",
    "        if i == j:\n",
    "            # Merge the CF and MLP DataFrames for each user on movie ID\n",
    "            CF_MLP_merged = pd.merge(CF_user_filt_dfs[i], MLP_user_filt_dfs[j], left_on=\"MovieID\", right_on=\"item_id\")\n",
    "\n",
    "            # Filter for rows where CF predicted rating > MLP predicted rating\n",
    "            CF_MLP_merged_filt = CF_MLP_merged.loc[CF_MLP_merged[\"PredictedScore\"] > CF_MLP_merged[\"predicted_rating\"]]\n",
    "\n",
    "            # Sort the filtered DataFrame by CF predicted rating from highest to lowest\n",
    "            CF_MLP_merged_filt_sort = CF_MLP_merged_filt.sort_values(by=[\"PredictedScore\"], ascending=False)\n",
    "            CF_MLP_merged_dfs.append(CF_MLP_merged_filt_sort)\n",
    "\n",
    "            # Update the dictionary with the highest CF predicted rating and its movie\n",
    "            target_users_recs[TARGET_USERS[i]] = {\"Movie ID\": CF_MLP_merged_filt_sort[\"MovieID\"].iloc[0], \"Highest Rating\": CF_MLP_merged_filt_sort[\"PredictedScore\"].iloc[0]}\n",
    "\n",
    "# Display the users' results\n",
    "print(target_users_recs)"
   ]
  },
  {
   "cell_type": "markdown",
   "id": "136d1a54-d593-4f01-86bf-0a651e22d61b",
   "metadata": {},
   "source": [
    "User 196:\n",
    "-few movies this user rated as a 5 include 655 (Stand by Me (1986); Adventure/Comedy/Drama), 67 (Ace Ventura: Pet Detective (1994); Comedy), and 663 (Being There (1979); Comedy) --> this user seems to like comedies \n",
    "-the unrated movie with the highest rating is movie 357 (e.g. One Flew Over the Cuckoo's Nest (1975); Drama) with a rating of roughly 4.25\n",
    "-One Flew Over the Cuckoo's Nest serves as a proper movie recommendation for User 196\n",
    "\n",
    "User 186\n",
    "-few movies this user rated as a 5 include 566 (Clear and Present Danger (1994); Action/Adventure/Thriller), 470 (Tombstone (1993); Western), and 925 (Unforgettable (1996); Sci-Fi/Thriller) --> this user seems to like movies that keep them on the edge of their seat\n",
    "-the unrated movie with the highest rating is movie 286 (e.g. The English Patient (1996); Drama/Romance/War) with a rating of roughly 4.61\n",
    "-The English Patient serves as a proper movie recommendation for User 186\n",
    "\n",
    "User 22\n",
    "-few movies this user rated as a 5 include 128 (Supercop (1992); Action/Thriller), 258 (Contact (1997); Drama/Sci-Fi), and 510 (The Magnificent Seven (1954); Action/Drama/Western) --> this user seems to like action movies\n",
    "-the unrated movie with the highest rating is movie 183 (e.g. Alien (1979); Action/Horror/Sci-Fi/Thriller) with a rating of roughly 4.33\n",
    "-Alien serves as a proper movie recommendation for User 22\n",
    "\n",
    "User 244\n",
    "-few movies this user rated as a 5 include 154 (Monty Python's Life of Brian (1979); Comedy), 89 (Blade Runner (1982); Film-Noir/Sci-Fi), and 652 (Rosencrantz and Guildenstern Are Dead (1990); Comedy/Drama) --> this user seems to like comedies\n",
    "-the unrated movie with the highest rating is movie 483 (e.g. Casablanca (1942); Drama/Romance/War) with a rating of roughly 4.67\n",
    "-Casablanca serves as a proper movie recommendation for User 244\n",
    "\n",
    "User 166\n",
    "-few movies this user rated as a 5 include 328 (Conspiracy Theory (1997); Action/Mystery/Romance/Thriller), 322 (Murder at 1600 (1997); Mystery/Thriller), and 300 (Air Force One (1997); Action/Thriller) --> this user seems to like thrillers  \n",
    "-the unrated movie with the highest rating is movie 228 (e.g. Star Trek: The Wrath of Khan (1982); Action/Adventure/Sci-Fi) with a rating of roughly 3.90\n",
    "-Star Trek: The Wrath of Khan serves as a proper movie recommendation for User 166\n",
    "\n",
    "User 298\n",
    "-few movies this user rated as a 5 include 8 (Babe (1995); Children's/Comedy/Drama), 498 (The African Queen (1951); Action/Adventure/Romance/War), and 496 (It's a Wonderful Life (1946); Drama) --> this user seems to like feel-good movies\n",
    "-the unrated movie with the highest rating is movie 192 (e.g. Raging Bull (1980); Drama) with a rating of roughly 4.45\n",
    "-Raging Bull serves as a proper movie recommendation for User 298\n",
    "\n",
    "User 115\n",
    "-few movies this user rated as a 5 include 8 (Babe (1995); Children's/Comedy/Drama), 127 (The Godfather (1972); Action/Crime/Drama), and 234 (Jaws (1975); Action/Horror) --> this user seems to like movies that keep them on the edge of their seat\n",
    "-the unrated movie with the highest rating is movie 169 (e.g. The Wrong Trousers (1993); Animation/Comedy) with a rating of 5\n",
    "-The Wrong Trousers serves as a proper movie recommendation for User 115\n",
    "\n",
    "User 253\n",
    "-few movies this user rated as a 5 include 465 (The Jungle Book (1994); Adventure/Children's/Romance), 510 (The Magnificent Seven (1954); Action/Drama/Western), and 183 (e.g. Alien (1979); Action/Horror/Sci-Fi/Thriller) --> this user seems to like movies that keep their attention\n",
    "-the unrated movie with the highest rating is movie 195 (e.g. The Terminator (1984); Action/Sci-Fi/Thriller) with a rating of roughly 4.13\n",
    "-The Terminator serves as a proper movie recommendation for User 253\n",
    "\n",
    "User 305\n",
    "-few movies this user rated as a 5 include 427 (To Kill a Mockingbird (1962); Drama), 483 (e.g. Casablanca (1942); Drama/Romance/War), and 50 (Star Wars (1977); Action/Adventure/Romance/Sci-Fi/War) --> this user seems to like dramas\n",
    "-the unrated movie with the highest rating is movie 23 (e.g. Taxi Driver (1976); Drama/Thriller) with a rating of roughly 4.36\n",
    "-Taxi Driver serves as a proper movie recommendation for User 305\n",
    "\n",
    "User 6\n",
    "-few movies this user rated as a 5 include 14 (Il Postino (1994); Drama/Romance), 98 (The Silence of the Lambs (1991); Drama/Thriller), and 492 (East of Eden (1955); Drama) --> this person seems to like dramas\n",
    "-the unrated movie with the highest rating is movie 654 (e.g. Chinatown (1974); Film-Noir/Mystery/Thriller) with a rating of roughly 4.67\n",
    "-Chinatown serves as a proper movie recommendation for User 6"
   ]
  }
 ],
 "metadata": {
  "kernelspec": {
   "display_name": "Python 3 (ipykernel)",
   "language": "python",
   "name": "python3"
  },
  "language_info": {
   "codemirror_mode": {
    "name": "ipython",
    "version": 3
   },
   "file_extension": ".py",
   "mimetype": "text/x-python",
   "name": "python",
   "nbconvert_exporter": "python",
   "pygments_lexer": "ipython3",
   "version": "3.9.2"
  }
 },
 "nbformat": 4,
 "nbformat_minor": 5
}
